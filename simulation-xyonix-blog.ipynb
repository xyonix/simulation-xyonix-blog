{
 "cells": [
  {
   "cell_type": "markdown",
   "id": "b2cac570",
   "metadata": {},
   "source": [
    "# getting started\n",
    "\n",
    "\n",
    "* This notebook uses OpenAI's GPT-3 API to generate text based on a supplied prompt. In order for you to run this notebook, you will need to get API credentials from OpenAI. Please visit [Open AI](https://openai.com/blog/openai-api/) for more information and\n",
    "how to apply.\n",
    "* Please select `xyonix-text-simulation` from the `Kernel::Change kernel` pulldown menu \n",
    "prior to running the contents of this notebook.\n",
    "* Please be aware that GPT-3 generally wil return random completions and therefore is not guaranteed to\n",
    "align exactly with the result presented in our article "
   ]
  },
  {
   "cell_type": "code",
   "execution_count": 1,
   "id": "0967a2bc",
   "metadata": {},
   "outputs": [
    {
     "name": "stdout",
     "output_type": "stream",
     "text": [
      "Loading OPENAI credentials from /Users/wconstan/creds/.openai\n",
      "USE_GPT_NEO: False\n"
     ]
    }
   ],
   "source": [
    "import simulation as sim"
   ]
  },
  {
   "cell_type": "markdown",
   "id": "d1d31772",
   "metadata": {},
   "source": [
    "# [Modern AI Text Generation: An Exploration of GPT-3, Wu Dao 2.0 & other NLP Advances](https://www.xyonix.com/blog/modern-ai-text-generation-exploration-gpt-3-wu-dao-2-nlp-advances)"
   ]
  },
  {
   "cell_type": "code",
   "execution_count": 2,
   "id": "4ac8a05c",
   "metadata": {},
   "outputs": [
    {
     "name": "stdout",
     "output_type": "stream",
     "text": [
      "----------------------------------------------------------------------------------------------------\n",
      "prompt: I love to eat\n",
      "\n",
      "GPT-3 completion: my pig after a bath with soap.\n"
     ]
    }
   ],
   "source": [
    "PROMPT=\"I love to eat\"\n",
    "COMPLETION = sim.gpt3_simulation(PROMPT, engine='curie', max_tokens=40)\n",
    "print('-'*100)\n",
    "print(f'prompt: {PROMPT}\\n\\nGPT-3 completion: {COMPLETION}')\n"
   ]
  },
  {
   "cell_type": "code",
   "execution_count": 4,
   "id": "f008107d",
   "metadata": {},
   "outputs": [
    {
     "name": "stdout",
     "output_type": "stream",
     "text": [
      "----------------------------------------------------------------------------------------------------\n",
      "prompt: English: I do not speak French\n",
      "French: Je ne parle pas français\n",
      "English: Where is a good restaurant?\n",
      "French: Où se trouve un bon restaurant?\n",
      "English: See you later!\n",
      "French: À plus tard!\n",
      "English: What rooms do you have available?\n",
      "French: De quelles chambres disposez-vous?\n",
      "English: How good is the wine here?\n",
      "French: \n",
      "\n",
      "GPT-3 completion: Quel est le vin de ce domaine?\n"
     ]
    }
   ],
   "source": [
    "# GPT-3 example of collapsed dialog\n",
    "dialog = [\n",
    "    \"English: I do not speak French\",\n",
    "    \"French: Je ne parle pas français\",\n",
    "    \"English: Where is a good restaurant?\",\n",
    "    \"French: Où se trouve un bon restaurant?\",\n",
    "    \"English: See you later!\",\n",
    "    \"French: À plus tard!\",\n",
    "    \"English: What rooms do you have available?\",\n",
    "    \"French: De quelles chambres disposez-vous?\",\n",
    "    \"English: How good is the wine here?\",\n",
    "    \"French: \"]\n",
    "PROMPT = '\\n'.join(dialog)\n",
    "COMPLETION = sim.gpt3_simulation(PROMPT, stop=['\\nEnglish:'], \n",
    "    engine='curie', max_tokens=20, temperature=0.5)\n",
    "print('-'*100)\n",
    "print(f'prompt: {PROMPT}\\n\\nGPT-3 completion: {COMPLETION}')\n"
   ]
  },
  {
   "cell_type": "code",
   "execution_count": 14,
   "id": "742a4f23",
   "metadata": {},
   "outputs": [
    {
     "name": "stdout",
     "output_type": "stream",
     "text": [
      "----------------------------------------------------------------------------------------------------\n",
      "prompt: Lewis Hamilton is a Formula 1 driver.\n",
      "Tom Cruise is an actor.\n",
      "Martin Short is a comedian.\n",
      "Tiger Woods is a golfer\n",
      "Joe Biden is a\n",
      "\n",
      "GPT-3 completion: politician.\n"
     ]
    }
   ],
   "source": [
    "# GPT-3 example of collapsed dialog\n",
    "dialog = [\n",
    "    \"Lewis Hamilton is a Formula 1 driver.\",\n",
    "    \"Tom Cruise is an actor.\",\n",
    "    \"Martin Short is a comedian.\",\n",
    "    \"Tiger Woods is a golfer\",\n",
    "    \"Joe Biden is a\"]\n",
    "PROMPT = '\\n'.join(dialog)\n",
    "COMPLETION = sim.gpt3_simulation(PROMPT, stop=['\\n'], \n",
    "    engine='davinci', max_tokens=20, temperature=0.3)\n",
    "print('-'*100)\n",
    "print(f'prompt: {PROMPT}\\n\\nGPT-3 completion: {COMPLETION}')\n"
   ]
  },
  {
   "cell_type": "code",
   "execution_count": 30,
   "id": "dcd1b5ff",
   "metadata": {},
   "outputs": [
    {
     "name": "stdout",
     "output_type": "stream",
     "text": [
      "----------------------------------------------------------------------------------------------------\n",
      "prompt: Q: What weighs more, the moon or a cookie?\n",
      "A: \n",
      "\n",
      "GPT-3 completion: The moon, but the cookie will be easier to eat.\n"
     ]
    }
   ],
   "source": [
    "# GPT-3 example of collapsed dialog\n",
    "dialog = [\n",
    "    \"Q: What weighs more, the moon or a cookie?\",\n",
    "    \"A: \"\n",
    "]\n",
    "PROMPT = '\\n'.join(dialog)\n",
    "COMPLETION = sim.gpt3_simulation(PROMPT, stop=['\\nQ: '], \n",
    "    engine='davinci', max_tokens=20, temperature=0.5)\n",
    "print('-'*100)\n",
    "print(f'prompt: {PROMPT}\\n\\nGPT-3 completion: {COMPLETION}')\n"
   ]
  },
  {
   "cell_type": "code",
   "execution_count": 29,
   "id": "fd6f3993",
   "metadata": {},
   "outputs": [
    {
     "name": "stdout",
     "output_type": "stream",
     "text": [
      "----------------------------------------------------------------------------------------------------\n",
      "prompt: Lewis Hamilton is English.\n",
      "Tom Cruise is American.\n",
      "Martin Short is Canadian.\n",
      "Angela Merkel is\n",
      "\n",
      "GPT-3 completion: German.\n"
     ]
    }
   ],
   "source": [
    "# GPT-3 example of collapsed dialog\n",
    "dialog = [\n",
    "    \"What weighs more, the moon or a cookie?\"]\n",
    "PROMPT = '\\n'.join(dialog)\n",
    "COMPLETION = sim.gpt3_simulation(PROMPT, stop=['\\n'], \n",
    "    engine='davinci', max_tokens=20, temperature=0.3)\n",
    "print('-'*100)\n",
    "print(f'prompt: {PROMPT}\\n\\nGPT-3 completion: {COMPLETION}')\n"
   ]
  },
  {
   "cell_type": "code",
   "execution_count": null,
   "id": "a546d3f1",
   "metadata": {},
   "outputs": [],
   "source": [
    "United States Senator."
   ]
  },
  {
   "cell_type": "markdown",
   "id": "d9dc2e4b",
   "metadata": {},
   "source": [
    "# [Modern AI Text Generation: An Exploration of GPT-3, Wu Dao 2.0 & other NLP Advances](https://www.xyonix.com/blog/modern-ai-text-generation-exploration-gpt-3-wu-dao-2-nlp-advances)"
   ]
  },
  {
   "cell_type": "markdown",
   "id": "e4f1e016",
   "metadata": {},
   "source": [
    "### Lebanese restaurant reviews"
   ]
  },
  {
   "cell_type": "code",
   "execution_count": 7,
   "id": "b75eb267",
   "metadata": {},
   "outputs": [
    {
     "name": "stdout",
     "output_type": "stream",
     "text": [
      "----------------------------------------------------------------------------------------------------\n",
      "prompt: The falafel\n",
      "\n",
      "GPT-3 completion: was really good and we came home stuffed from all of the hummus.\n"
     ]
    }
   ],
   "source": [
    "PROMPT=\"The falafel\"\n",
    "COMPLETION = sim.gpt3_simulation(PROMPT, engine='curie', max_tokens=100)\n",
    "print('-'*100)\n",
    "print(f'prompt: {PROMPT}\\n\\nGPT-3 completion: {COMPLETION}')\n"
   ]
  },
  {
   "cell_type": "code",
   "execution_count": 12,
   "id": "5a854fc4",
   "metadata": {},
   "outputs": [
    {
     "name": "stdout",
     "output_type": "stream",
     "text": [
      "----------------------------------------------------------------------------------------------------\n",
      "prompt: The baklava was\n",
      "\n",
      "GPT-3 completion: very good. It was the first time I had tried it and I enjoyed it very much.\n"
     ]
    }
   ],
   "source": [
    "PROMPT=\"The baklava was\"\n",
    "COMPLETION = sim.gpt3_simulation(PROMPT, engine='curie', max_tokens=100)\n",
    "print('-'*100)\n",
    "print(f'prompt: {PROMPT}\\n\\nGPT-3 completion: {COMPLETION}')\n"
   ]
  },
  {
   "cell_type": "code",
   "execution_count": 14,
   "id": "b07a4fc1",
   "metadata": {},
   "outputs": [
    {
     "name": "stdout",
     "output_type": "stream",
     "text": [
      "----------------------------------------------------------------------------------------------------\n",
      "prompt: The Kanafeh I had\n",
      "\n",
      "GPT-3 completion: was beyond delicious. I want to reminisce about this place for a day or two and then go back to the same. It was full of flavor from within, so nicely done...the Al Gahba nan Qatar is divine and portions are great..\n"
     ]
    }
   ],
   "source": [
    "PROMPT=\"The Kanafeh I had\"\n",
    "COMPLETION = sim.gpt3_simulation(PROMPT, engine='curie', max_tokens=100)\n",
    "print('-'*100)\n",
    "print(f'prompt: {PROMPT}\\n\\nGPT-3 completion: {COMPLETION}')\n"
   ]
  },
  {
   "cell_type": "code",
   "execution_count": 16,
   "id": "c3c08bfc",
   "metadata": {},
   "outputs": [
    {
     "name": "stdout",
     "output_type": "stream",
     "text": [
      "----------------------------------------------------------------------------------------------------\n",
      "prompt: The Kanafeh was not\n",
      "\n",
      "GPT-3 completion: bad but it was not lip smacking. It is good to experiment and try new things. i would prefer Lebanese tea (with milk) over this, its better with a hibiscus sprig :)\n"
     ]
    }
   ],
   "source": [
    "PROMPT=\"The Kanafeh was not\"\n",
    "COMPLETION = sim.gpt3_simulation(PROMPT, engine='curie', max_tokens=100)\n",
    "print('-'*100)\n",
    "print(f'prompt: {PROMPT}\\n\\nGPT-3 completion: {COMPLETION}')\n"
   ]
  },
  {
   "cell_type": "markdown",
   "id": "cae3bbb2",
   "metadata": {},
   "source": [
    "### summarize"
   ]
  },
  {
   "cell_type": "code",
   "execution_count": 22,
   "id": "8a1666a4",
   "metadata": {},
   "outputs": [
    {
     "name": "stdout",
     "output_type": "stream",
     "text": [
      "----------------------------------------------------------------------------------------------------\n",
      "prompt: I'm feeling down at school because\n",
      "\n",
      "GPT-3 completion: I can't play football today, and I'm trying to get home, but my teacher let's me go early because of it so the other kids don't laugh at me. It isn't really funny; they just think it is 'cause these four older kids are always picking on us younger ones.\n"
     ]
    }
   ],
   "source": [
    "PROMPT=\"I'm feeling down at school because\"\n",
    "COMPLETION = sim.gpt3_simulation(PROMPT, engine='curie', max_tokens=100)\n",
    "print('-'*100)\n",
    "print(f'prompt: {PROMPT}\\n\\nGPT-3 completion: {COMPLETION}')\n"
   ]
  },
  {
   "cell_type": "code",
   "execution_count": 23,
   "id": "6a493463",
   "metadata": {},
   "outputs": [
    {
     "name": "stdout",
     "output_type": "stream",
     "text": [
      "----------------------------------------------------------------------------------------------------\n",
      "prompt: I'm feeling down at school because\n",
      "\n",
      "GPT-3 completion: I got a bad grade on my math test.\n"
     ]
    }
   ],
   "source": [
    "PROMPT=\"I'm feeling down at school because\"\n",
    "COMPLETION = sim.gpt3_simulation(PROMPT, engine='curie', max_tokens=100)\n",
    "print('-'*100)\n",
    "print(f'prompt: {PROMPT}\\n\\nGPT-3 completion: {COMPLETION}')\n"
   ]
  },
  {
   "cell_type": "code",
   "execution_count": 24,
   "id": "754c2f59",
   "metadata": {},
   "outputs": [
    {
     "name": "stdout",
     "output_type": "stream",
     "text": [
      "----------------------------------------------------------------------------------------------------\n",
      "prompt: I'm feeling down at school because\n",
      "\n",
      "GPT-3 completion: of homework.\" (Ugh, I can't believe it's still that time of year!)\n"
     ]
    }
   ],
   "source": [
    "PROMPT=\"I'm feeling down at school because\"\n",
    "COMPLETION = sim.gpt3_simulation(PROMPT, engine='curie', max_tokens=100)\n",
    "print('-'*100)\n",
    "print(f'prompt: {PROMPT}\\n\\nGPT-3 completion: {COMPLETION}')\n"
   ]
  },
  {
   "cell_type": "code",
   "execution_count": 27,
   "id": "6e881251",
   "metadata": {},
   "outputs": [
    {
     "name": "stdout",
     "output_type": "stream",
     "text": [
      "----------------------------------------------------------------------------------------------------\n",
      "I missed so much work, and it's affecting my grades.\"\n",
      "----------------------------------------------------------------------------------------------------\n",
      "I'm sad about Mr. Pasimirvichevich coming back,\" Jackson said on Saturday morning, according to the court transcript of Carroll's hearing. \"I need help with school.\"\n",
      "----------------------------------------------------------------------------------------------------\n",
      "I don't have a boyfriend. I like a lot of the boys at school but none of them are my friends, they just flirt with me.\" A bit more info here would be great to see how this progresses as it builds on her feelings and engaging in conversation.\n",
      "----------------------------------------------------------------------------------------------------\n",
      "my little sister died last night.\"\n",
      "----------------------------------------------------------------------------------------------------\n",
      "I can't ride the bike anymore! I know our school is a total drag but it's still boring!'\n",
      "----------------------------------------------------------------------------------------------------\n",
      "I used to love going there and didn't this morning.'\n",
      "----------------------------------------------------------------------------------------------------\n",
      "it's raining like a bitch. My boobs are cold, I dunno what to doWhat the fuck is wrong with meHaven't got too much in my pocket, gotta get some food\n",
      "----------------------------------------------------------------------------------------------------\n",
      "my mum and dad aren't talking to each other,\" said Henry. \"My sister and I can hear them shouting at each other in the rec room.\"\n",
      "----------------------------------------------------------------------------------------------------\n",
      "I had to wear a dress yesterday. It's very uncomfortable and I'm self-conscious,' or 'My mother is embarrassed about my haircut.'\n",
      "----------------------------------------------------------------------------------------------------\n",
      "my friend is going to be gone a couple weeks for her dad's funeral. I don't understand why they have to leave there as soon as it starts, when we've still got two months of school until the end of summer...I'm not feeling so confident about my work on this book project, either...\n"
     ]
    }
   ],
   "source": [
    "PROMPT=\"I'm feeling down at school because\"\n",
    "\n",
    "for i in range(10):\n",
    "    COMPLETION = sim.gpt3_simulation(PROMPT, engine='curie', max_tokens=200)\n",
    "    print('-'*100)\n",
    "    print(COMPLETION)\n"
   ]
  },
  {
   "cell_type": "markdown",
   "id": "bef06713",
   "metadata": {},
   "source": [
    "# slang translator"
   ]
  },
  {
   "cell_type": "code",
   "execution_count": 9,
   "id": "af98c989",
   "metadata": {},
   "outputs": [
    {
     "name": "stdout",
     "output_type": "stream",
     "text": [
      "\n",
      "SLANG: Get a load of this simp\n",
      "FORMAL TRANSLATION: Look at this guy\n",
      "\n",
      "SLANG: He is so fit\n",
      "FORMAL TRANSLATION: He is in good physical condition\n",
      "\n",
      "SLANG: She is my bae\n",
      "FORMAL TRANSLATION: She is my girlfriend\n",
      "\n",
      "SLANG: You're acting sus\n",
      "FORMAL TRANSLATION: You're acting suspiciously\n",
      "\n",
      "SLANG: Stay woke brah\n",
      "FORMAL TRANSLATION: Be alert, be vigilant\n"
     ]
    }
   ],
   "source": [
    "# GPT-3 example of collapsed dialog\n",
    "prompt = [\n",
    "    \"Slang: You've been acting sus lately\",\n",
    "    \"Formal: You've been acting suspiciously lately\",\n",
    "    \"Slang: That party was lit!\",\n",
    "    \"Formal: That was an exciting party\",\n",
    "    \"Slang: The food was dope.\",\n",
    "    \"Formal: The food was of high quality\",\n",
    "    \"Slang: Yo, those shoes are Fire!\",\n",
    "    \"Formal: Those shoes are awesome!\",\n",
    "]\n",
    "\n",
    "def slang_to_formal(slang, engine='davinci', max_tokens=40, temperature=0.5):\n",
    "    dialog = prompt + [f'Slang: {slang}', 'Formal: ']\n",
    "    PROMPT = '\\n'.join(dialog)\n",
    "    COMPLETION = sim.gpt3_simulation(PROMPT, stop=['\\nSlang:'], \n",
    "        engine=engine, max_tokens=max_tokens, temperature=temperature)\n",
    "    return COMPLETION\n",
    "    \n",
    "slang_phrases = ['Get a load of this simp', \n",
    "                 'He is so fit', \n",
    "                 'She is my bae', \n",
    "                 \"You're acting sus\", \n",
    "                 \"Stay woke brah\"]\n",
    "    \n",
    "for slang in slang_phrases:\n",
    "    formal = slang_to_formal(slang)\n",
    "    print(f'\\nSLANG: {slang}\\nFORMAL TRANSLATION: {formal}')"
   ]
  },
  {
   "cell_type": "markdown",
   "id": "de08c11e",
   "metadata": {},
   "source": [
    "# legalese translator"
   ]
  },
  {
   "cell_type": "code",
   "execution_count": 6,
   "id": "5f5dae17",
   "metadata": {},
   "outputs": [
    {
     "name": "stdout",
     "output_type": "stream",
     "text": [
      "\n",
      "PLAIN ENGLISH: I am going to sue him in court if he fails to pay me my rent money that is 6 months past due.\n",
      "LEGALESE TRANSLATION: If the Company fails to pay rent for more than 3 months, then the landlord may terminate this agreement.\n",
      "\n",
      "PLAIN ENGLISH: I have the right to seek employment elsewhere as I did not sign a non-competition agreement\n",
      "LEGALESE TRANSLATION: The Founders will be able to compete with the Company after their employment has ended.\n",
      "\n",
      "PLAIN ENGLISH: He has 30 days to respond to the subpoena. Otherwise, he will be arrested and put into jail\n",
      "LEGALESE TRANSLATION: The Company will pay for reasonable attorneys’ fees and costs incurred by the Founders in responding to any subpoenas or other legal process, provided that the Company shall not be liable for any settlement payments made without its prior written consent.\n",
      "\n",
      "PLAIN ENGLISH: If the company folds, the Series A investors will be the first to get their money back\n",
      "LEGALESE TRANSLATION: The Company will repay the Series A Investors before any other creditor in the event of its insolvency.\n",
      "\n",
      "PLAIN ENGLISH: If a majority of the investors decide to sell their shares, the investors who disagree to sell their shares will be forced to do so.\n",
      "LEGALESE TRANSLATION: In the event of a sale or transfer by the Investors, all other Investors shall have preemptive rights to purchase such Investor’s interest on terms no less favourable to the Company than those offered to any third party.\n"
     ]
    }
   ],
   "source": [
    "prompt = [\n",
    "    \"PLAIN ENGLISH: The startup and its founders will provide the usual assurances and guarantees on facts about the business. The founders will also agree not to work for competitors, poach employees or customers when they leave the startup, and respect confidentiality.\",\n",
    "    \"LEGALESE: The Company and the Founders will provide the Investors with customary representations and warranties, examples of which are set out in Appendix 4 and the Founders will provide the Investors with customary non-competition, non-solicitation and confidentiality undertakings.\",\n",
    "    \"PLAIN ENGISH: If the Company does an IPO in the USA, investors have the usual rights to include their shares in the public offering and the costs of doing this will be covered by the Company.\",\n",
    "    \"LEGALESE: In the event of an initial public offering of the Company’s shares on a US stock exchange the Investors shall be entitled registration rights customary in transactions of this type (including two demand rights and unlimited shelf and piggy-back rights), with the expenses paid by the Company.\"\n",
    "]\n",
    "\n",
    "\n",
    "def plain_english_to_legalese(plain_english, engine='davinci', max_tokens=100, temperature=0.5):\n",
    "    dialog = prompt + [f'PLAIN ENGLISH: {plain_english}', 'LEGALESE:']\n",
    "    PROMPT = '\\n'.join(dialog)\n",
    "    COMPLETION = sim.gpt3_simulation(PROMPT, stop=['\\nPLAIN ENGLISH:'], \n",
    "        engine=engine, max_tokens=max_tokens, temperature=temperature)\n",
    "    return COMPLETION\n",
    "    \n",
    "plain_phrases = ['I am going to sue him in court if he fails to pay me my rent money that is 6 months past due.', \n",
    "                 'I have the right to seek employment elsewhere as I did not sign a non-competition agreement', \n",
    "                 'He has 30 days to respond to the subpoena. Otherwise, he will be arrested and put into jail', \n",
    "                 \"If the company folds, the Series A investors will be the first to get their money back\", \n",
    "                 \"If a majority of the investors decide to sell their shares, the investors who disagree to sell their shares will be forced to do so.\"]\n",
    "    \n",
    "for plain_english in plain_phrases:\n",
    "    legalese = plain_english_to_legalese(plain_english)\n",
    "    print(f'\\nPLAIN ENGLISH: {plain_english}\\nLEGALESE TRANSLATION: {legalese}')\n",
    "    "
   ]
  },
  {
   "cell_type": "code",
   "execution_count": null,
   "id": "20023cfe",
   "metadata": {},
   "outputs": [],
   "source": []
  }
 ],
 "metadata": {
  "kernelspec": {
   "display_name": "xyonix-text-simulation",
   "language": "python",
   "name": "xyonix-text-simulation"
  },
  "language_info": {
   "codemirror_mode": {
    "name": "ipython",
    "version": 3
   },
   "file_extension": ".py",
   "mimetype": "text/x-python",
   "name": "python",
   "nbconvert_exporter": "python",
   "pygments_lexer": "ipython3",
   "version": "3.9.6"
  }
 },
 "nbformat": 4,
 "nbformat_minor": 5
}
